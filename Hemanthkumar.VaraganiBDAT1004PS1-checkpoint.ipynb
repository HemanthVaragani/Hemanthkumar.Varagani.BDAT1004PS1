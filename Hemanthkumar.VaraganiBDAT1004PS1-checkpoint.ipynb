{
 "cells": [
  {
   "cell_type": "markdown",
   "id": "53048cdd",
   "metadata": {},
   "source": [
    "Question 1"
   ]
  },
  {
   "cell_type": "code",
   "execution_count": null,
   "id": "7c4dfebf",
   "metadata": {},
   "outputs": [],
   "source": [
    "\"\"\"\n",
    "Question 1 :\n",
    "\"Type of 5 is\"- Int \n",
    "\"Type of 5>1 is\"- Bool  \n",
    "\"Type of '5' is\"- Char\n",
    "\"Type of 5*2 is\"- Int\n",
    "\"Type of '5'*2 is\"-string\n",
    "\"Type of '5'+'2' is\"-string\n",
    "\"Type of 5%2 is\"-int\n",
    "\"Type of {5,2,1} is\"-int array\n",
    "\"Type of 5==3 is\"-bool\n",
    "\"Type of pi is\"-float\n",
    "\"\"\""
   ]
  },
  {
   "cell_type": "code",
   "execution_count": null,
   "id": "3c502e0d",
   "metadata": {},
   "outputs": [],
   "source": [
    "\"\"\"\"\n",
    "Question 2 : Write (and evaluate) C# expressions that answer these questions:\n",
    "    a) How many letters are there in 'Supercalifragilisticexpialidocious'?\n",
    "    b. Does 'Supercalifragilisticexpialidocious' contain 'ice' as a substring?\n",
    "    c.Which of the following words is the longest: Supercalifragilisticexpialidocious, Honorificabilitudinitatibus, or Bababadalgharaghtakamminarronnkonn?\n",
    "    d. Which composer comes first in the dictionary: 'Berlioz', 'Borodin', 'Brian','Bartok', 'Bellini', 'Buxtehude','Bernstein'. Which one comes last?\n",
    "    For all the four I've written different functions for different options(a,b,c,d) in below cell.\n",
    "\"\"\"\n",
    "#created four functions for the above 4 options and those are called from main function"
   ]
  },
  {
   "cell_type": "code",
   "execution_count": null,
   "id": "50b48235",
   "metadata": {},
   "outputs": [],
   "source": [
    "\"\"\"//#2nd question whole code\n",
    "using System;\n",
    "using System.Collections.Generic;\n",
    "\n",
    "class Program\n",
    "{\n",
    "    static void A(){\n",
    "        string s = \"Supercalifragilisticexpialidocious\";\n",
    "        Console.WriteLine(\"a.Total length : \"+s.Length);\n",
    "    }\n",
    "    static void B(){\n",
    "        string s = \"abcdefg\";\n",
    "        string sub = \"cde\";\n",
    "        int i=0,j=0;\n",
    "        bool flag = false;\n",
    "        while(i<s.Length){\n",
    "            if(s[i] == sub[j]){\n",
    "                int a = i;\n",
    "                while(a<s.Length && j<sub.Length && s[a] == sub[j]){\n",
    "                    a++;\n",
    "                    j++;\n",
    "                    if(j == sub.Length){\n",
    "                        flag = true;\n",
    "                        break;\n",
    "                    }\n",
    "                }\n",
    "            }\n",
    "            if(flag == true)\n",
    "                break;\n",
    "            i++;\n",
    "            j = 0;\n",
    "        }\n",
    "\n",
    "        if(flag == true)\n",
    "            Console.WriteLine(\"b.\"+sub+\" is in \"+s);\n",
    "        else\n",
    "            Console.WriteLine(\"b.\"+sub+\" is not in \"+s);\n",
    "    }\n",
    "    static void C(){\n",
    "        string a = \"Supercalifragilisticexpialidocious\";\n",
    "        string b = \"Honorificabilitudinitatibus\";\n",
    "        string c = \"Bababadalgharaghtakamminarronnkonn\";\n",
    "        int aa = a.Length;\n",
    "        int bb = b.Length;\n",
    "        int cc = c.Length;\n",
    "        if(aa>bb && aa>cc){\n",
    "            Console.WriteLine(\"c)\"+a+\" is the longest\");\n",
    "        }\n",
    "        else if (bb>cc){\n",
    "            Console.WriteLine(\"c.\"+b+\" is the longest\");\n",
    "        }\n",
    "        else{\n",
    "            Console.WriteLine(\"c.\"+c+\" is the longest\");\n",
    "        }\n",
    "    }\n",
    "    static void D(){\n",
    "        var d = new Dictionary<string, int>(){{\"Berlioz\",1},{\"Borodin\",2},{\"Brian\",3},{\"Bartok\",4},{\"Bellini\",5},{\"Buxtehude\",5},{\"Bernstein\",5}};\n",
    "        int c = 0;\n",
    "        Console.WriteLine(\"d.Order is \");\n",
    "        foreach(KeyValuePair<string,int> k in d){\n",
    "            Console.WriteLine(k.Key);\n",
    "        }\n",
    "    }\n",
    "    static void Main() {\n",
    "        A();\n",
    "        B();\n",
    "        C();\n",
    "        D();\n",
    "    }\n",
    "}\n",
    "\"\"\""
   ]
  },
  {
   "cell_type": "code",
   "execution_count": null,
   "id": "7aa4be81",
   "metadata": {},
   "outputs": [],
   "source": [
    "\"\"\"//#Question 3 : Implement triangleArea function taking 3 sides of triangle as input \n",
    "\n",
    "using System;\n",
    "using System.Collections.Generic;\n",
    "\n",
    "class Program\n",
    "{\n",
    "    static void triangleArea(float a,float b,float c){\n",
    "        float s = (a+b+c)/2;\n",
    "        float x = s*(s-a)*(s-b)*(s-c);\n",
    "        Console.Write(Math.Sqrt(x));\n",
    "    }\n",
    "    static void Main() {\n",
    "        triangleArea(2,2,2);\n",
    "    }\n",
    "}\n",
    "\"\"\""
   ]
  },
  {
   "cell_type": "code",
   "execution_count": null,
   "id": "4626a071",
   "metadata": {},
   "outputs": [],
   "source": [
    "\"\"\"//#Question 4 : Write a program in C# Sharp to separate odd and even integers in separate arrays. \n",
    "using System;\n",
    "\n",
    "class Program\n",
    "{\n",
    "    static void Main() {\n",
    "        Console.Write(\"Input the number of elements to be stored in the array : \");\n",
    "        string val = Console.ReadLine();\n",
    "        int res = Convert.ToInt32(val);\n",
    "        int[] arr = new int[res];\n",
    "        for(int i = 0;i<res;++i){\n",
    "            Console.Write(\"element - \"+i+\" : \");\n",
    "            string a = Console.ReadLine();\n",
    "            int ss = Convert.ToInt32(a);\n",
    "            arr[i]=ss;\n",
    "        }\n",
    "        Console.WriteLine(\"The Even elements are: \");\n",
    "        for(int i = 0;i<res;++i){\n",
    "            if(arr[i]%2 == 0)\n",
    "                Console.Write(arr[i]+\" \");\n",
    "        }\n",
    "        Console.WriteLine(\" \");\n",
    "        Console.WriteLine(\"The Odd elements are: \");\n",
    "        for(int i = 0;i<res;++i){\n",
    "            if(arr[i]%2 != 0)\n",
    "                Console.Write(arr[i]+\" \");\n",
    "        }\n",
    "    }\n",
    "}\n",
    "\"\"\""
   ]
  },
  {
   "cell_type": "code",
   "execution_count": 5,
   "id": "77492139",
   "metadata": {
    "collapsed": true
   },
   "outputs": [
    {
     "data": {
      "text/plain": [
       "'\\n//#5.a) Write a function inside(x,y,x1,y1,x2,y2) that returns True or False dependingonwhetherthepoint(x,y)liesintherectanglewithlowerleftcorner (x1,y1) and upper right corner (x2,y2).\\nusing System;\\n\\nclass fifth\\n{\\n    static bool inside(double x,double y,double x1,double y1,double x2,double y2){\\n        if (x > x1 && x < x2)\\n            if( y > y1 && y < y2)\\n                return true;\\n    \\n        return false;\\n    }\\n    static void Main() {\\n            Console.WriteLine(inside(1,1,0,0,2,3));\\n            Console.WriteLine(inside(-1,-1,0,0,2,3));\\n    }\\n}\\n'"
      ]
     },
     "execution_count": 5,
     "metadata": {},
     "output_type": "execute_result"
    }
   ],
   "source": [
    "\"\"\"\n",
    "//#5.a) Write a function inside(x,y,x1,y1,x2,y2) that returns True or False dependingonwhetherthepoint(x,y)liesintherectanglewithlowerleftcorner (x1,y1) and upper right corner (x2,y2).\n",
    "using System;\n",
    "\n",
    "class fifth\n",
    "{\n",
    "    static bool inside(double x,double y,double x1,double y1,double x2,double y2){\n",
    "        if (x > x1 && x < x2)\n",
    "            if( y > y1 && y < y2)\n",
    "                return true;\n",
    "    \n",
    "        return false;\n",
    "    }\n",
    "    static void Main() {\n",
    "            Console.WriteLine(inside(1,1,0,0,2,3));\n",
    "            Console.WriteLine(inside(-1,-1,0,0,2,3));\n",
    "    }\n",
    "}\n",
    "\"\"\""
   ]
  },
  {
   "cell_type": "code",
   "execution_count": null,
   "id": "5854f257",
   "metadata": {},
   "outputs": [],
   "source": [
    "//#5. b)\n",
    "if(inside(1,1,0.3,0.5,1.1,0.7) && inside(1,1,0.5,0.2,1.1,2))\n",
    "    Console.WriteLine(\"Point lies inside both rectangles\")\n",
    "else\n",
    "    Console.WriteLine(\"Point doesn't lie  inside both or any one of the rectangles\")"
   ]
  },
  {
   "cell_type": "code",
   "execution_count": 15,
   "id": "653904ee",
   "metadata": {},
   "outputs": [
    {
     "name": "stdout",
     "output_type": "stream",
     "text": [
      "appyhay\n",
      "encilpay\n"
     ]
    }
   ],
   "source": [
    "#Question 6 :\n",
    "def pig(st):\n",
    "    vowels = ['a','e','i','o','u','A','E','I','U','O']\n",
    "    ar = \"\"\n",
    "    if st[0] not in vowels :\n",
    "        ar = st[1:]\n",
    "        ar = ar + st[0]\n",
    "        ar = ar + \"ay\"\n",
    "    print(ar)\n",
    "pig(\"happy\")\n",
    "pig(\"pencil\")"
   ]
  },
  {
   "cell_type": "code",
   "execution_count": 36,
   "id": "e8ad1a19",
   "metadata": {},
   "outputs": [
    {
     "name": "stdout",
     "output_type": "stream",
     "text": [
      "There are 15 patients of blood type O\n",
      "There are one patient of blood type B\n",
      "There are 15 patients of blood type A\n",
      "There are 13 patients of blood type AB\n",
      "There are no patients of blood type OO\n"
     ]
    }
   ],
   "source": [
    "#Question : 7 \n",
    "#initially creating a dictionary and adding the keys as bloodgroups and values as their count\n",
    "bloodGroups = dict()\n",
    "bloodGroups['O']=0;bloodGroups['B']=0;bloodGroups['A']=0;bloodGroups['AB']=0\n",
    "bloodGroups['OO']=0\n",
    "#read line by line and increments the dictionary and as our file had only one line\n",
    "with open('bloodtype1.txt','r') as f :    \n",
    "    for eachLine in f :                   \n",
    "        listOFGroups = eachLine.split()\n",
    "        for group in listOFGroups :\n",
    "            bloodGroups[group] +=1\n",
    "#Access the groupname and groupcount using bloodGroups[group] & group\n",
    "for group in bloodGroups :\n",
    "    if bloodGroups[group] == 0 :\n",
    "        print(\"There are no patients of blood type {}\".format(group))\n",
    "    elif bloodGroups[group] == 1:\n",
    "        print(\"There are one patient of blood type {}\".format(group))\n",
    "    else :\n",
    "        print(\"There are {} patients of blood type {}\".format(bloodGroups[group],group))\n"
   ]
  },
  {
   "cell_type": "code",
   "execution_count": 3,
   "id": "376377ce",
   "metadata": {},
   "outputs": [
    {
     "name": "stdout",
     "output_type": "stream",
     "text": [
      "122.96544\n",
      "1.241401\n"
     ]
    }
   ],
   "source": [
    "#Question - 8 :\n",
    "def curconv(currency,amount):\n",
    "    #opening the file\n",
    "    filepointer = open('currencies.txt','r')\n",
    "    text = filepointer.read()\n",
    "    #splitting data in line by line and made a list -'liss' which stores all lines of data individually\n",
    "    liss = text.split('\\n')\n",
    "    currDic = dict()\n",
    "    for cur in liss :\n",
    "        demo = cur.split('\\t')    #for example in liss[0] will have data [\"'AUR'\\t'1.2035'\\t'Australian currency'\"] splitting by '\\t'\n",
    "        currDic[demo[0]] = float(demo[1])\n",
    "    print(currDic[currency]*amount)\n",
    "curconv(\"EUR\",100)\n",
    "curconv(\"JPY\",100)\n"
   ]
  },
  {
   "cell_type": "code",
   "execution_count": 1,
   "id": "c4bb86b9",
   "metadata": {},
   "outputs": [],
   "source": [
    "\"\"\"\n",
    "Question : 9\n",
    "#//Don't execute this Cell\n",
    "1)Trying to add incompatible variables, as in\n",
    "adding 6 + ‘a’\n",
    "Error : TypeError\n",
    "    \n",
    "2)Referring to the 12th item of a list that has only 10\n",
    "items\n",
    "Error : IndexError\n",
    "    \n",
    "3)Using a value that is out ofrange for a function’s\n",
    "input, such as calling math.sqrt(-1.0)\n",
    "Error : ValueError\n",
    "    \n",
    "4)Using an undeclared variable, such as print(x)\n",
    "when x has not been defined\n",
    "Error : NameError\n",
    "    \n",
    "5)Trying to open a file that does not exist, such as\n",
    "mistyping the file name or looking in the wrong\n",
    "directory.\n",
    "Error : FileNotFoundError\n",
    "\"\"\""
   ]
  },
  {
   "cell_type": "code",
   "execution_count": 4,
   "id": "c0b12150",
   "metadata": {},
   "outputs": [
    {
     "name": "stdout",
     "output_type": "stream",
     "text": [
      "[1, 1, 1, 3, 5, 1, 1, 2, 1, 0, 1, 0, 1, 2, 4, 0, 1, 2, 0, 2, 1, 0, 1, 1, 0, 0]\n",
      "[1, 0, 0, 0, 1, 0, 0, 0, 0, 0, 0, 1, 0, 0, 0, 2, 0, 0, 0, 0, 0, 0, 0, 0, 0, 0]\n"
     ]
    }
   ],
   "source": [
    "#Question 10 :\n",
    "\n",
    "def frequencies(str) :\n",
    "    a = \"abcdefghijklmnopqrstuvwxyz\"\n",
    "    di = dict()\n",
    "    for i in range(0,len(str)) :\n",
    "        if str[i] in a :\n",
    "            if str[i] not in di :\n",
    "                di[str[i]] = 1\n",
    "            else :\n",
    "                di[str[i]]+=1\n",
    "    for i in range(0,len(a)):\n",
    "        if a[i] not in di :\n",
    "            di[a[i]] = 0\n",
    "    ans = []\n",
    "    for i in range(0,len(a)) :\n",
    "        x = di[a[i]]\n",
    "        ans.append(x)\n",
    "    print(ans)\n",
    "\n",
    "frequencies(\"The quick red fox got bored and went home.\")\n",
    "frequencies(\"apple\")"
   ]
  },
  {
   "cell_type": "code",
   "execution_count": null,
   "id": "617bb77f",
   "metadata": {},
   "outputs": [],
   "source": []
  }
 ],
 "metadata": {
  "kernelspec": {
   "display_name": "Python 3 (ipykernel)",
   "language": "python",
   "name": "python3"
  },
  "language_info": {
   "codemirror_mode": {
    "name": "ipython",
    "version": 3
   },
   "file_extension": ".py",
   "mimetype": "text/x-python",
   "name": "python",
   "nbconvert_exporter": "python",
   "pygments_lexer": "ipython3",
   "version": "3.10.4"
  }
 },
 "nbformat": 4,
 "nbformat_minor": 5
}
